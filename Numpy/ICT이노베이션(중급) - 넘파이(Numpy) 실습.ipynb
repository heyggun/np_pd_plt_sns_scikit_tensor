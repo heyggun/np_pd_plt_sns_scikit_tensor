{
 "cells": [
  {
   "cell_type": "markdown",
   "id": "6d27d84e",
   "metadata": {},
   "source": [
    "### 1. Numpy 라이브러리 Import"
   ]
  },
  {
   "cell_type": "code",
   "execution_count": 1,
   "id": "791c9c17",
   "metadata": {},
   "outputs": [],
   "source": [
    "import numpy as np"
   ]
  },
  {
   "cell_type": "code",
   "execution_count": 2,
   "id": "42cc2ff2",
   "metadata": {},
   "outputs": [
    {
     "data": {
      "text/plain": [
       "'1.19.2'"
      ]
     },
     "execution_count": 2,
     "metadata": {},
     "output_type": "execute_result"
    }
   ],
   "source": [
    "np.__version__"
   ]
  },
  {
   "cell_type": "markdown",
   "id": "57f39ac1",
   "metadata": {},
   "source": [
    "### 2. `ndarray` 생성"
   ]
  },
  {
   "cell_type": "code",
   "execution_count": 3,
   "id": "44093af4",
   "metadata": {},
   "outputs": [
    {
     "data": {
      "text/plain": [
       "list"
      ]
     },
     "execution_count": 3,
     "metadata": {},
     "output_type": "execute_result"
    }
   ],
   "source": [
    "myList = [1,2,3,4]\n",
    "type(myList)"
   ]
  },
  {
   "cell_type": "code",
   "execution_count": 4,
   "id": "7d809cd0",
   "metadata": {},
   "outputs": [
    {
     "name": "stdout",
     "output_type": "stream",
     "text": [
      "<class 'numpy.ndarray'>\n",
      "[1 2 3 4]\n"
     ]
    }
   ],
   "source": [
    "arr = np.array(myList)\n",
    "print(type(arr))\n",
    "print(arr)"
   ]
  },
  {
   "cell_type": "markdown",
   "id": "bc4f7b04",
   "metadata": {},
   "source": [
    "##### 리스트(list)로 부터 생성하기"
   ]
  },
  {
   "cell_type": "code",
   "execution_count": 5,
   "id": "3703b9fc",
   "metadata": {},
   "outputs": [],
   "source": [
    "# 4행\n",
    "\n",
    "myList1 = [1,2,3,4]\n",
    "myList2 = [[1,2,3,4],\n",
    "          [5,6,7,8]]"
   ]
  },
  {
   "cell_type": "code",
   "execution_count": 6,
   "id": "4f0907d0",
   "metadata": {},
   "outputs": [],
   "source": [
    "arr1 = np.array(myList1)\n",
    "arr2 = np.array(myList2)"
   ]
  },
  {
   "cell_type": "code",
   "execution_count": 7,
   "id": "265fabb9",
   "metadata": {},
   "outputs": [
    {
     "name": "stdout",
     "output_type": "stream",
     "text": [
      "(4,)\n",
      "(2, 4)\n"
     ]
    }
   ],
   "source": [
    "print(arr1.shape)\n",
    "print(arr2.shape)"
   ]
  },
  {
   "cell_type": "markdown",
   "id": "51a23fb6",
   "metadata": {},
   "source": [
    "### 3. `Array`에서의 `데이터타입`\n",
    "- array에서는 list와 다르게 1개의 단일 데이터 타입만 허용"
   ]
  },
  {
   "cell_type": "code",
   "execution_count": 8,
   "id": "b8376654",
   "metadata": {},
   "outputs": [
    {
     "data": {
      "text/plain": [
       "[1, 3.14, 'hello', '1234']"
      ]
     },
     "execution_count": 8,
     "metadata": {},
     "output_type": "execute_result"
    }
   ],
   "source": [
    "myList_p = [1, 3.14, 'hello', '1234']\n",
    "myList_p"
   ]
  },
  {
   "cell_type": "code",
   "execution_count": 9,
   "id": "c01251cc",
   "metadata": {},
   "outputs": [
    {
     "data": {
      "text/plain": [
       "3.14"
      ]
     },
     "execution_count": 9,
     "metadata": {},
     "output_type": "execute_result"
    }
   ],
   "source": [
    "myList_p[1]"
   ]
  },
  {
   "cell_type": "markdown",
   "id": "7056b90a",
   "metadata": {},
   "source": [
    "##### array에서 data 타입이 혼재된 경우\n",
    "\n",
    "(1) int, str이 혼재된 경우\n",
    ": 자동으로 문자열로 바꿔줌"
   ]
  },
  {
   "cell_type": "code",
   "execution_count": 10,
   "id": "d8a09ab0",
   "metadata": {},
   "outputs": [],
   "source": [
    "arr = np.array([1, 3.14, 'abc', '1234'])"
   ]
  },
  {
   "cell_type": "code",
   "execution_count": 11,
   "id": "32e6252f",
   "metadata": {},
   "outputs": [
    {
     "data": {
      "text/plain": [
       "array(['1', '3.14', 'abc', '1234'], dtype='<U32')"
      ]
     },
     "execution_count": 11,
     "metadata": {},
     "output_type": "execute_result"
    }
   ],
   "source": [
    "arr"
   ]
  },
  {
   "cell_type": "markdown",
   "id": "07c461bf",
   "metadata": {},
   "source": [
    "(2) int와 str이 혼재된 경우 : int로 dtype을 지정한 경우"
   ]
  },
  {
   "cell_type": "code",
   "execution_count": 12,
   "id": "7a432a8f",
   "metadata": {},
   "outputs": [
    {
     "data": {
      "text/plain": [
       "array([   1,    3, 1234])"
      ]
     },
     "execution_count": 12,
     "metadata": {},
     "output_type": "execute_result"
    }
   ],
   "source": [
    "arr = np.array([1, 3.14, '1234'], dtype=int)\n",
    "arr"
   ]
  },
  {
   "cell_type": "markdown",
   "id": "c5600642",
   "metadata": {},
   "source": [
    "(3) int와 float와 str 타입의 혼재"
   ]
  },
  {
   "cell_type": "code",
   "execution_count": 13,
   "id": "22380754",
   "metadata": {},
   "outputs": [
    {
     "data": {
      "text/plain": [
       "array(['1', '3.14', 'abc', '1234'], dtype='<U32')"
      ]
     },
     "execution_count": 13,
     "metadata": {},
     "output_type": "execute_result"
    }
   ],
   "source": [
    "arr = np.array([1, 3.14, 'abc', '1234'])\n",
    "arr"
   ]
  },
  {
   "cell_type": "code",
   "execution_count": 14,
   "id": "e86cbaec",
   "metadata": {},
   "outputs": [
    {
     "data": {
      "text/plain": [
       "'13.14'"
      ]
     },
     "execution_count": 14,
     "metadata": {},
     "output_type": "execute_result"
    }
   ],
   "source": [
    "arr[0] + arr[1]"
   ]
  },
  {
   "cell_type": "markdown",
   "id": "79211c44",
   "metadata": {},
   "source": [
    "(4) int와 str 타입이 혼재된 경우, int로 dtype을 지정한 경우"
   ]
  },
  {
   "cell_type": "code",
   "execution_count": 15,
   "id": "cbff02d0",
   "metadata": {},
   "outputs": [
    {
     "data": {
      "text/plain": [
       "array([   1,    3, 1234])"
      ]
     },
     "execution_count": 15,
     "metadata": {},
     "output_type": "execute_result"
    }
   ],
   "source": [
    "arr = np.array([1, 3.14, '1234'], dtype=int)\n",
    "arr"
   ]
  },
  {
   "cell_type": "code",
   "execution_count": 16,
   "id": "85938e8c",
   "metadata": {},
   "outputs": [
    {
     "data": {
      "text/plain": [
       "int"
      ]
     },
     "execution_count": 16,
     "metadata": {},
     "output_type": "execute_result"
    }
   ],
   "source": [
    "type(int('1234'))"
   ]
  },
  {
   "cell_type": "markdown",
   "id": "bd7acc1b",
   "metadata": {},
   "source": [
    "### 4. `슬라이싱(Slicing)`"
   ]
  },
  {
   "cell_type": "code",
   "execution_count": 17,
   "id": "cbb5542b",
   "metadata": {},
   "outputs": [
    {
     "data": {
      "text/plain": [
       "(10,)"
      ]
     },
     "execution_count": 17,
     "metadata": {},
     "output_type": "execute_result"
    }
   ],
   "source": [
    "arr = np.array([0,1,2,3,4,5,6,7,8,9])\n",
    "arr.shape"
   ]
  },
  {
   "cell_type": "markdown",
   "id": "8b449574",
   "metadata": {},
   "source": [
    "#### 4-1. index 지정하여 색인"
   ]
  },
  {
   "cell_type": "code",
   "execution_count": 18,
   "id": "b2ab3312",
   "metadata": {},
   "outputs": [
    {
     "data": {
      "text/plain": [
       "0"
      ]
     },
     "execution_count": 18,
     "metadata": {},
     "output_type": "execute_result"
    }
   ],
   "source": [
    "arr[0]"
   ]
  },
  {
   "cell_type": "code",
   "execution_count": 19,
   "id": "98a4e8ad",
   "metadata": {},
   "outputs": [
    {
     "data": {
      "text/plain": [
       "5"
      ]
     },
     "execution_count": 19,
     "metadata": {},
     "output_type": "execute_result"
    }
   ],
   "source": [
    "arr[5]"
   ]
  },
  {
   "cell_type": "code",
   "execution_count": 20,
   "id": "30db6c76",
   "metadata": {},
   "outputs": [
    {
     "ename": "IndexError",
     "evalue": "index 10 is out of bounds for axis 0 with size 10",
     "output_type": "error",
     "traceback": [
      "\u001b[1;31m---------------------------------------------------------------------------\u001b[0m",
      "\u001b[1;31mIndexError\u001b[0m                                Traceback (most recent call last)",
      "\u001b[1;32m<ipython-input-20-ff656e92d79c>\u001b[0m in \u001b[0;36m<module>\u001b[1;34m\u001b[0m\n\u001b[1;32m----> 1\u001b[1;33m \u001b[0marr\u001b[0m\u001b[1;33m[\u001b[0m\u001b[1;36m10\u001b[0m\u001b[1;33m]\u001b[0m\u001b[1;33m\u001b[0m\u001b[1;33m\u001b[0m\u001b[0m\n\u001b[0m",
      "\u001b[1;31mIndexError\u001b[0m: index 10 is out of bounds for axis 0 with size 10"
     ]
    }
   ],
   "source": [
    "arr[10]"
   ]
  },
  {
   "cell_type": "code",
   "execution_count": 21,
   "id": "03c70112",
   "metadata": {},
   "outputs": [
    {
     "data": {
      "text/plain": [
       "9"
      ]
     },
     "execution_count": 21,
     "metadata": {},
     "output_type": "execute_result"
    }
   ],
   "source": [
    "arr[-1]"
   ]
  },
  {
   "cell_type": "code",
   "execution_count": 22,
   "id": "e643bfb5",
   "metadata": {},
   "outputs": [
    {
     "data": {
      "text/plain": [
       "(3, 4)"
      ]
     },
     "execution_count": 22,
     "metadata": {},
     "output_type": "execute_result"
    }
   ],
   "source": [
    "# 2차원 array\n",
    "\n",
    "arr2d = np.array([[1,2,3,4],\n",
    "                [5,6,7,8],\n",
    "                [9,10,11,12]])\n",
    "\n",
    "arr2d.shape"
   ]
  },
  {
   "cell_type": "code",
   "execution_count": 23,
   "id": "52d29e1e",
   "metadata": {},
   "outputs": [
    {
     "data": {
      "text/plain": [
       "3"
      ]
     },
     "execution_count": 23,
     "metadata": {},
     "output_type": "execute_result"
    }
   ],
   "source": [
    "arr2d[0,2]"
   ]
  },
  {
   "cell_type": "code",
   "execution_count": 24,
   "id": "cadfc0e5",
   "metadata": {},
   "outputs": [
    {
     "data": {
      "text/plain": [
       "10"
      ]
     },
     "execution_count": 24,
     "metadata": {},
     "output_type": "execute_result"
    }
   ],
   "source": [
    "arr2d[2,1]"
   ]
  },
  {
   "cell_type": "markdown",
   "id": "cabff95e",
   "metadata": {},
   "source": [
    "#### 4-2. 범위 지정하여 색인"
   ]
  },
  {
   "cell_type": "code",
   "execution_count": 25,
   "id": "6784e84c",
   "metadata": {},
   "outputs": [
    {
     "data": {
      "text/plain": [
       "array([1, 2, 3, 4, 5, 6, 7, 8, 9])"
      ]
     },
     "execution_count": 25,
     "metadata": {},
     "output_type": "execute_result"
    }
   ],
   "source": [
    "# index 1 이상 끝까지\n",
    "\n",
    "arr[1:]"
   ]
  },
  {
   "cell_type": "code",
   "execution_count": 27,
   "id": "6bc88ead",
   "metadata": {},
   "outputs": [
    {
     "data": {
      "text/plain": [
       "array([0, 1, 2, 3, 4])"
      ]
     },
     "execution_count": 27,
     "metadata": {},
     "output_type": "execute_result"
    }
   ],
   "source": [
    "# index 5 미만까지\n",
    "\n",
    "arr[:5]"
   ]
  },
  {
   "cell_type": "code",
   "execution_count": 28,
   "id": "72592485",
   "metadata": {},
   "outputs": [
    {
     "data": {
      "text/plain": [
       "array([1, 2, 3, 4])"
      ]
     },
     "execution_count": 28,
     "metadata": {},
     "output_type": "execute_result"
    }
   ],
   "source": [
    "# index 1 이상 5 미만\n",
    "\n",
    "arr[1:5]"
   ]
  },
  {
   "cell_type": "code",
   "execution_count": 29,
   "id": "8a4c1b5a",
   "metadata": {},
   "outputs": [
    {
     "data": {
      "text/plain": [
       "array([1, 2, 3, 4])"
      ]
     },
     "execution_count": 29,
     "metadata": {},
     "output_type": "execute_result"
    }
   ],
   "source": [
    "# 2차원 row(행) 모두 가져올 때 \n",
    "\n",
    "arr2d[0,:]"
   ]
  },
  {
   "cell_type": "code",
   "execution_count": 30,
   "id": "e52f3d2c",
   "metadata": {},
   "outputs": [
    {
     "data": {
      "text/plain": [
       "(4,)"
      ]
     },
     "execution_count": 30,
     "metadata": {},
     "output_type": "execute_result"
    }
   ],
   "source": [
    "arr2d[0, :].shape"
   ]
  },
  {
   "cell_type": "code",
   "execution_count": 31,
   "id": "f8e9a3d8",
   "metadata": {},
   "outputs": [
    {
     "data": {
      "text/plain": [
       "array([ 3,  7, 11])"
      ]
     },
     "execution_count": 31,
     "metadata": {},
     "output_type": "execute_result"
    }
   ],
   "source": [
    "# 2차원 column(열)을 모두 가져올 때\n",
    "\n",
    "arr2d[:, 2]"
   ]
  },
  {
   "cell_type": "code",
   "execution_count": 32,
   "id": "74d748c5",
   "metadata": {},
   "outputs": [
    {
     "data": {
      "text/plain": [
       "array([[1, 2, 3, 4],\n",
       "       [5, 6, 7, 8]])"
      ]
     },
     "execution_count": 32,
     "metadata": {},
     "output_type": "execute_result"
    }
   ],
   "source": [
    "# 부분적 가져올 때\n",
    "\n",
    "arr2d[:2, :]"
   ]
  },
  {
   "cell_type": "code",
   "execution_count": 33,
   "id": "0a7c0a6d",
   "metadata": {},
   "outputs": [
    {
     "data": {
      "text/plain": [
       "array([[3, 4],\n",
       "       [7, 8]])"
      ]
     },
     "execution_count": 33,
     "metadata": {},
     "output_type": "execute_result"
    }
   ],
   "source": [
    "arr2d[:2, 2:]"
   ]
  },
  {
   "cell_type": "markdown",
   "id": "9b7ba10b",
   "metadata": {},
   "source": [
    "#### 4-3. `fancy` 인덱싱\n",
    "\n",
    "- 범위가 아닌 특정 index의 집합의 값을 선택하여 추출하고 싶을 때"
   ]
  },
  {
   "cell_type": "code",
   "execution_count": 35,
   "id": "0d714085",
   "metadata": {},
   "outputs": [],
   "source": [
    "arr = np.array([10,23,2,7,90,65,32,66,70])"
   ]
  },
  {
   "cell_type": "code",
   "execution_count": 36,
   "id": "69d4cabc",
   "metadata": {},
   "outputs": [],
   "source": [
    "idx= [1,3,5]"
   ]
  },
  {
   "cell_type": "code",
   "execution_count": 37,
   "id": "4f76bde7",
   "metadata": {},
   "outputs": [
    {
     "data": {
      "text/plain": [
       "array([23,  7, 65])"
      ]
     },
     "execution_count": 37,
     "metadata": {},
     "output_type": "execute_result"
    }
   ],
   "source": [
    "arr[idx]"
   ]
  },
  {
   "cell_type": "code",
   "execution_count": 38,
   "id": "dc0d5f11",
   "metadata": {},
   "outputs": [
    {
     "data": {
      "text/plain": [
       "array([ 2, 65, 66])"
      ]
     },
     "execution_count": 38,
     "metadata": {},
     "output_type": "execute_result"
    }
   ],
   "source": [
    "arr[[2,5,7]]"
   ]
  },
  {
   "cell_type": "code",
   "execution_count": 39,
   "id": "04a656da",
   "metadata": {},
   "outputs": [
    {
     "data": {
      "text/plain": [
       "array([[1, 2, 3, 4],\n",
       "       [5, 6, 7, 8]])"
      ]
     },
     "execution_count": 39,
     "metadata": {},
     "output_type": "execute_result"
    }
   ],
   "source": [
    "arr2d[[0,1],:]"
   ]
  },
  {
   "cell_type": "markdown",
   "id": "b1283515",
   "metadata": {},
   "source": [
    "#### 4-4. `boolean` 인덱싱\n",
    "\n",
    "- 조건 필터링을 통하여 Boolean 값을 이용한 색인"
   ]
  },
  {
   "cell_type": "code",
   "execution_count": 44,
   "id": "a985cdfa",
   "metadata": {},
   "outputs": [],
   "source": [
    "arr = np.array([1, 2, 3, 4, 5, 6, 7])"
   ]
  },
  {
   "cell_type": "code",
   "execution_count": 45,
   "id": "e49a2c9a",
   "metadata": {},
   "outputs": [],
   "source": [
    "myTrueFalse = [True, False, True]"
   ]
  },
  {
   "cell_type": "code",
   "execution_count": 46,
   "id": "185942c6",
   "metadata": {},
   "outputs": [
    {
     "ename": "IndexError",
     "evalue": "boolean index did not match indexed array along dimension 0; dimension is 7 but corresponding boolean dimension is 3",
     "output_type": "error",
     "traceback": [
      "\u001b[1;31m---------------------------------------------------------------------------\u001b[0m",
      "\u001b[1;31mIndexError\u001b[0m                                Traceback (most recent call last)",
      "\u001b[1;32m<ipython-input-46-9c52b39d81ae>\u001b[0m in \u001b[0;36m<module>\u001b[1;34m\u001b[0m\n\u001b[1;32m----> 1\u001b[1;33m \u001b[0marr\u001b[0m\u001b[1;33m[\u001b[0m\u001b[0mmyTrueFalse\u001b[0m\u001b[1;33m]\u001b[0m\u001b[1;33m\u001b[0m\u001b[1;33m\u001b[0m\u001b[0m\n\u001b[0m",
      "\u001b[1;31mIndexError\u001b[0m: boolean index did not match indexed array along dimension 0; dimension is 7 but corresponding boolean dimension is 3"
     ]
    }
   ],
   "source": [
    "arr[myTrueFalse]"
   ]
  },
  {
   "cell_type": "code",
   "execution_count": 47,
   "id": "ed819994",
   "metadata": {},
   "outputs": [],
   "source": [
    "myTrueFalse = [True, False, True, False, True, False, True]"
   ]
  },
  {
   "cell_type": "code",
   "execution_count": 48,
   "id": "b76c2bd2",
   "metadata": {},
   "outputs": [
    {
     "data": {
      "text/plain": [
       "array([1, 3, 5, 7])"
      ]
     },
     "execution_count": 48,
     "metadata": {},
     "output_type": "execute_result"
    }
   ],
   "source": [
    "arr[myTrueFalse]"
   ]
  },
  {
   "cell_type": "markdown",
   "id": "45090717",
   "metadata": {},
   "source": [
    "#### 4-5. `조건필터`\n",
    "\n",
    "- 조건 연산자를 활용하여 필터 생성 가능"
   ]
  },
  {
   "cell_type": "code",
   "execution_count": 49,
   "id": "880661cc",
   "metadata": {},
   "outputs": [
    {
     "data": {
      "text/plain": [
       "array([[False, False,  True,  True],\n",
       "       [ True,  True,  True,  True],\n",
       "       [ True,  True,  True,  True]])"
      ]
     },
     "execution_count": 49,
     "metadata": {},
     "output_type": "execute_result"
    }
   ],
   "source": [
    "arr2d > 2"
   ]
  },
  {
   "cell_type": "code",
   "execution_count": 50,
   "id": "32981fc0",
   "metadata": {},
   "outputs": [
    {
     "data": {
      "text/plain": [
       "array([ 3,  4,  5,  6,  7,  8,  9, 10, 11, 12])"
      ]
     },
     "execution_count": 50,
     "metadata": {},
     "output_type": "execute_result"
    }
   ],
   "source": [
    "arr2d[arr2d>2]"
   ]
  },
  {
   "cell_type": "code",
   "execution_count": 51,
   "id": "eb29c48a",
   "metadata": {},
   "outputs": [
    {
     "data": {
      "text/plain": [
       "array([1, 2, 3, 4])"
      ]
     },
     "execution_count": 51,
     "metadata": {},
     "output_type": "execute_result"
    }
   ],
   "source": [
    "arr2d[arr2d<5]"
   ]
  },
  {
   "cell_type": "markdown",
   "id": "8ade988c",
   "metadata": {},
   "source": [
    "### 4. `arange`\n",
    "\n",
    "array + range = arange\n",
    "- 첫번째 인자에는 **start 이상**, 두번째 인자에는 **stop의 미만** 이 들어갑니다. (option 세번째 인자 step) "
   ]
  },
  {
   "cell_type": "code",
   "execution_count": 52,
   "id": "2b0f3391",
   "metadata": {},
   "outputs": [
    {
     "data": {
      "text/plain": [
       "array([ 1,  2,  3,  4,  5,  6,  7,  8,  9, 10])"
      ]
     },
     "execution_count": 52,
     "metadata": {},
     "output_type": "execute_result"
    }
   ],
   "source": [
    "arr = np.arange(1,11)\n",
    "arr"
   ]
  },
  {
   "cell_type": "markdown",
   "id": "f9c58658",
   "metadata": {},
   "source": [
    "##### `keyword` 인자\n",
    "\n",
    "- 파라미터(인자)의 keyword를 지정하여 순서 없이 지정 가능"
   ]
  },
  {
   "cell_type": "code",
   "execution_count": 56,
   "id": "39dbe4d2",
   "metadata": {},
   "outputs": [
    {
     "data": {
      "text/plain": [
       "array([ 1,  2,  3,  4,  5,  6,  7,  8,  9, 10])"
      ]
     },
     "execution_count": 56,
     "metadata": {},
     "output_type": "execute_result"
    }
   ],
   "source": [
    "arr = np.arange(start=1, stop=11)\n",
    "arr"
   ]
  },
  {
   "cell_type": "markdown",
   "id": "850dad63",
   "metadata": {},
   "source": [
    "#### `step` 키워드 활용"
   ]
  },
  {
   "cell_type": "code",
   "execution_count": 60,
   "id": "ff5e41d4",
   "metadata": {},
   "outputs": [
    {
     "data": {
      "text/plain": [
       "array([1, 3, 5, 7, 9])"
      ]
     },
     "execution_count": 60,
     "metadata": {},
     "output_type": "execute_result"
    }
   ],
   "source": [
    "# 1~10 사이의 홀수 값 생성\n",
    "\n",
    "arr = np.arange(1,11,2)\n",
    "arr"
   ]
  },
  {
   "cell_type": "code",
   "execution_count": 61,
   "id": "94ef8e10",
   "metadata": {},
   "outputs": [
    {
     "data": {
      "text/plain": [
       "array([1, 3, 5, 7, 9])"
      ]
     },
     "execution_count": 61,
     "metadata": {},
     "output_type": "execute_result"
    }
   ],
   "source": [
    "arr = np.arange(start=1, stop=11, step=2)\n",
    "arr"
   ]
  },
  {
   "cell_type": "markdown",
   "id": "3339a531",
   "metadata": {},
   "source": [
    "###### * 참고용 range(범위지정)"
   ]
  },
  {
   "cell_type": "code",
   "execution_count": 62,
   "id": "13bcb241",
   "metadata": {},
   "outputs": [
    {
     "name": "stdout",
     "output_type": "stream",
     "text": [
      "1\n",
      "3\n",
      "5\n",
      "7\n",
      "9\n"
     ]
    }
   ],
   "source": [
    "for i in arr:\n",
    "    print(i)"
   ]
  },
  {
   "cell_type": "code",
   "execution_count": 63,
   "id": "0c8df85d",
   "metadata": {},
   "outputs": [
    {
     "name": "stdout",
     "output_type": "stream",
     "text": [
      "range(1, 11)\n",
      "<class 'range'>\n"
     ]
    }
   ],
   "source": [
    "test = range(1,11)\n",
    "print(test)\n",
    "print(type(test))"
   ]
  },
  {
   "cell_type": "code",
   "execution_count": 64,
   "id": "cf0b1218",
   "metadata": {},
   "outputs": [
    {
     "name": "stdout",
     "output_type": "stream",
     "text": [
      "1\n",
      "2\n",
      "3\n",
      "4\n",
      "5\n",
      "6\n",
      "7\n",
      "8\n",
      "9\n",
      "10\n"
     ]
    }
   ],
   "source": [
    "# range 메소드는 range 만으로 실행되는 것이 아니라, for문과 같이 반복문을 만났을 때 실행\n",
    "\n",
    "for i in range(1,11):\n",
    "    print(i)"
   ]
  },
  {
   "cell_type": "code",
   "execution_count": 66,
   "id": "9b8da207",
   "metadata": {},
   "outputs": [
    {
     "name": "stdout",
     "output_type": "stream",
     "text": [
      "12\n"
     ]
    }
   ],
   "source": [
    "a = 3\n",
    "b = 4\n",
    "c = np.dot(a,b)\n",
    "print(c)"
   ]
  },
  {
   "cell_type": "markdown",
   "id": "3cf8f919",
   "metadata": {},
   "source": [
    "### 5. `정렬`"
   ]
  },
  {
   "cell_type": "code",
   "execution_count": 67,
   "id": "f2fabbf8",
   "metadata": {},
   "outputs": [],
   "source": [
    "arr = np.array([1, 10, 5, 8, 2, 4, 3, 6, 8, 7, 9])"
   ]
  },
  {
   "cell_type": "code",
   "execution_count": 68,
   "id": "70d7f864",
   "metadata": {},
   "outputs": [
    {
     "data": {
      "text/plain": [
       "array([ 1,  2,  3,  4,  5,  6,  7,  8,  8,  9, 10])"
      ]
     },
     "execution_count": 68,
     "metadata": {},
     "output_type": "execute_result"
    }
   ],
   "source": [
    "np.sort(arr)"
   ]
  },
  {
   "cell_type": "code",
   "execution_count": 69,
   "id": "2abde344",
   "metadata": {},
   "outputs": [
    {
     "data": {
      "text/plain": [
       "array([10,  9,  8,  8,  7,  6,  5,  4,  3,  2,  1])"
      ]
     },
     "execution_count": 69,
     "metadata": {},
     "output_type": "execute_result"
    }
   ],
   "source": [
    "np.sort(arr)[::-1]"
   ]
  },
  {
   "cell_type": "code",
   "execution_count": 70,
   "id": "3c8a7c27",
   "metadata": {},
   "outputs": [
    {
     "data": {
      "text/plain": [
       "array([ 1,  2,  3,  4,  5,  6,  7,  8,  8,  9, 10])"
      ]
     },
     "execution_count": 70,
     "metadata": {},
     "output_type": "execute_result"
    }
   ],
   "source": [
    "arr = np.sort(arr)\n",
    "arr"
   ]
  },
  {
   "cell_type": "code",
   "execution_count": 71,
   "id": "25ebd023",
   "metadata": {},
   "outputs": [
    {
     "data": {
      "text/plain": [
       "array([10,  9,  8,  8,  7,  6,  5,  4,  3,  2,  1])"
      ]
     },
     "execution_count": 71,
     "metadata": {},
     "output_type": "execute_result"
    }
   ],
   "source": [
    "arr2 = np.sort(arr)[::-1]\n",
    "arr2"
   ]
  },
  {
   "cell_type": "markdown",
   "id": "44072bfb",
   "metadata": {},
   "source": [
    "#### 5-1. N차원 정렬"
   ]
  },
  {
   "cell_type": "code",
   "execution_count": 72,
   "id": "a0584aca",
   "metadata": {},
   "outputs": [],
   "source": [
    "arr2d = np.array([[5, 6, 7, 8], \n",
    "                  [4, 3, 2, 1],\n",
    "                  [10, 9, 12, 11]])"
   ]
  },
  {
   "cell_type": "code",
   "execution_count": 73,
   "id": "535f2fb2",
   "metadata": {},
   "outputs": [
    {
     "data": {
      "text/plain": [
       "(3, 4)"
      ]
     },
     "execution_count": 73,
     "metadata": {},
     "output_type": "execute_result"
    }
   ],
   "source": [
    "arr2d.shape"
   ]
  },
  {
   "cell_type": "markdown",
   "id": "5eadbcf8",
   "metadata": {},
   "source": [
    "##### 열정렬 ( 왼쪽에서 오른쪽)"
   ]
  },
  {
   "cell_type": "code",
   "execution_count": 75,
   "id": "f111a281",
   "metadata": {},
   "outputs": [
    {
     "data": {
      "text/plain": [
       "array([[ 5,  6,  7,  8],\n",
       "       [ 1,  2,  3,  4],\n",
       "       [ 9, 10, 11, 12]])"
      ]
     },
     "execution_count": 75,
     "metadata": {},
     "output_type": "execute_result"
    }
   ],
   "source": [
    "np.sort(arr2d, axis=1)"
   ]
  },
  {
   "cell_type": "markdown",
   "id": "883f02a3",
   "metadata": {},
   "source": [
    "##### 행정렬(위에서 아래로)"
   ]
  },
  {
   "cell_type": "code",
   "execution_count": 77,
   "id": "cd1beb13",
   "metadata": {},
   "outputs": [
    {
     "data": {
      "text/plain": [
       "array([[ 4,  3,  2,  1],\n",
       "       [ 5,  6,  7,  8],\n",
       "       [10,  9, 12, 11]])"
      ]
     },
     "execution_count": 77,
     "metadata": {},
     "output_type": "execute_result"
    }
   ],
   "source": [
    "np.sort(arr2d, axis=0)"
   ]
  },
  {
   "cell_type": "markdown",
   "id": "efe3117f",
   "metadata": {},
   "source": [
    "### 6. Index를 반환하는 `argsort`\n",
    "- 정렬된 값을 반환하는 것이 아닌 index를 반환"
   ]
  },
  {
   "cell_type": "markdown",
   "id": "95b89865",
   "metadata": {},
   "source": [
    "#####  행정렬"
   ]
  },
  {
   "cell_type": "code",
   "execution_count": 78,
   "id": "1cd7fe6c",
   "metadata": {},
   "outputs": [
    {
     "data": {
      "text/plain": [
       "array([[0, 1, 2, 3],\n",
       "       [3, 2, 1, 0],\n",
       "       [1, 0, 3, 2]], dtype=int64)"
      ]
     },
     "execution_count": 78,
     "metadata": {},
     "output_type": "execute_result"
    }
   ],
   "source": [
    "np.argsort(arr2d, axis=1)"
   ]
  },
  {
   "cell_type": "markdown",
   "id": "5dcbd51d",
   "metadata": {},
   "source": [
    "##### 열정렬"
   ]
  },
  {
   "cell_type": "code",
   "execution_count": 79,
   "id": "5634b266",
   "metadata": {},
   "outputs": [
    {
     "data": {
      "text/plain": [
       "array([[1, 1, 1, 1],\n",
       "       [0, 0, 0, 0],\n",
       "       [2, 2, 2, 2]], dtype=int64)"
      ]
     },
     "execution_count": 79,
     "metadata": {},
     "output_type": "execute_result"
    }
   ],
   "source": [
    "np.argsort(arr2d, axis=0)"
   ]
  },
  {
   "cell_type": "markdown",
   "id": "5a35c6a3",
   "metadata": {},
   "source": [
    "### 7. 행렬의 연산"
   ]
  },
  {
   "cell_type": "markdown",
   "id": "f1d9ba6b",
   "metadata": {},
   "source": [
    "#### 7-1. 덧셈"
   ]
  },
  {
   "cell_type": "code",
   "execution_count": 80,
   "id": "2a71a683",
   "metadata": {},
   "outputs": [],
   "source": [
    "a = np.array([[1,2,3],\n",
    "             [2,3,4]])\n",
    "\n",
    "b = np.array([[3,4,5],\n",
    "             [1,2,3]])"
   ]
  },
  {
   "cell_type": "code",
   "execution_count": 82,
   "id": "da9b5624",
   "metadata": {},
   "outputs": [
    {
     "name": "stdout",
     "output_type": "stream",
     "text": [
      "(2, 3) (2, 3)\n"
     ]
    }
   ],
   "source": [
    "print(a.shape, b.shape)"
   ]
  },
  {
   "cell_type": "code",
   "execution_count": 81,
   "id": "61f0f10f",
   "metadata": {},
   "outputs": [
    {
     "data": {
      "text/plain": [
       "array([[4, 6, 8],\n",
       "       [3, 5, 7]])"
      ]
     },
     "execution_count": 81,
     "metadata": {},
     "output_type": "execute_result"
    }
   ],
   "source": [
    "a+b"
   ]
  },
  {
   "cell_type": "code",
   "execution_count": 83,
   "id": "a4710ab8",
   "metadata": {},
   "outputs": [],
   "source": [
    "a = np.array([[1, 2, 3], \n",
    "              [2, 3, 4]])\n",
    "\n",
    "b = np.array([[1, 2],\n",
    "              [3, 4],  \n",
    "              [5, 6]])"
   ]
  },
  {
   "cell_type": "code",
   "execution_count": 84,
   "id": "fb4146e2",
   "metadata": {},
   "outputs": [
    {
     "name": "stdout",
     "output_type": "stream",
     "text": [
      "(2, 3) (3, 2)\n"
     ]
    }
   ],
   "source": [
    "print(a.shape, b.shape)"
   ]
  },
  {
   "cell_type": "code",
   "execution_count": 85,
   "id": "b40a52ca",
   "metadata": {},
   "outputs": [
    {
     "ename": "ValueError",
     "evalue": "operands could not be broadcast together with shapes (2,3) (3,2) ",
     "output_type": "error",
     "traceback": [
      "\u001b[1;31m---------------------------------------------------------------------------\u001b[0m",
      "\u001b[1;31mValueError\u001b[0m                                Traceback (most recent call last)",
      "\u001b[1;32m<ipython-input-85-ca730b97bf8a>\u001b[0m in \u001b[0;36m<module>\u001b[1;34m\u001b[0m\n\u001b[1;32m----> 1\u001b[1;33m \u001b[0ma\u001b[0m\u001b[1;33m+\u001b[0m\u001b[0mb\u001b[0m\u001b[1;33m\u001b[0m\u001b[1;33m\u001b[0m\u001b[0m\n\u001b[0m",
      "\u001b[1;31mValueError\u001b[0m: operands could not be broadcast together with shapes (2,3) (3,2) "
     ]
    }
   ],
   "source": [
    "a+b"
   ]
  },
  {
   "cell_type": "code",
   "execution_count": 86,
   "id": "7069e43e",
   "metadata": {},
   "outputs": [],
   "source": [
    "a = np.array([[1, 2, 3], \n",
    "              [2, 3, 4]])"
   ]
  },
  {
   "cell_type": "code",
   "execution_count": 87,
   "id": "0c438842",
   "metadata": {},
   "outputs": [
    {
     "data": {
      "text/plain": [
       "array([3, 5, 7])"
      ]
     },
     "execution_count": 87,
     "metadata": {},
     "output_type": "execute_result"
    }
   ],
   "source": [
    "np.sum(a, axis=0)"
   ]
  },
  {
   "cell_type": "code",
   "execution_count": 88,
   "id": "fd1647aa",
   "metadata": {},
   "outputs": [
    {
     "data": {
      "text/plain": [
       "array([6, 9])"
      ]
     },
     "execution_count": 88,
     "metadata": {},
     "output_type": "execute_result"
    }
   ],
   "source": [
    "np.sum(a, axis=1)"
   ]
  },
  {
   "cell_type": "markdown",
   "id": "7d29e796",
   "metadata": {},
   "source": [
    "#### 7-2. 뺄셈"
   ]
  },
  {
   "cell_type": "code",
   "execution_count": 90,
   "id": "d4838152",
   "metadata": {},
   "outputs": [],
   "source": [
    "a = np.array([[1, 2, 3], \n",
    "              [2, 3, 4]])\n",
    "\n",
    "b = np.array([[3, 4, 5], \n",
    "              [1, 2, 3]])"
   ]
  },
  {
   "cell_type": "code",
   "execution_count": 91,
   "id": "9b150184",
   "metadata": {},
   "outputs": [
    {
     "data": {
      "text/plain": [
       "array([[-2, -2, -2],\n",
       "       [ 1,  1,  1]])"
      ]
     },
     "execution_count": 91,
     "metadata": {},
     "output_type": "execute_result"
    }
   ],
   "source": [
    "a-b"
   ]
  },
  {
   "cell_type": "code",
   "execution_count": 92,
   "id": "012b76ac",
   "metadata": {},
   "outputs": [],
   "source": [
    "a = np.array([[1, 2, 3], \n",
    "              [2, 3, 4]])\n",
    "\n",
    "b = np.array([[1, 2],\n",
    "              [3, 4],  \n",
    "              [5, 6]])"
   ]
  },
  {
   "cell_type": "code",
   "execution_count": 93,
   "id": "99ec72da",
   "metadata": {},
   "outputs": [
    {
     "ename": "ValueError",
     "evalue": "operands could not be broadcast together with shapes (2,3) (3,2) ",
     "output_type": "error",
     "traceback": [
      "\u001b[1;31m---------------------------------------------------------------------------\u001b[0m",
      "\u001b[1;31mValueError\u001b[0m                                Traceback (most recent call last)",
      "\u001b[1;32m<ipython-input-93-5ae0619f8fe1>\u001b[0m in \u001b[0;36m<module>\u001b[1;34m\u001b[0m\n\u001b[1;32m----> 1\u001b[1;33m \u001b[0ma\u001b[0m\u001b[1;33m-\u001b[0m\u001b[0mb\u001b[0m\u001b[1;33m\u001b[0m\u001b[1;33m\u001b[0m\u001b[0m\n\u001b[0m",
      "\u001b[1;31mValueError\u001b[0m: operands could not be broadcast together with shapes (2,3) (3,2) "
     ]
    }
   ],
   "source": [
    "a-b"
   ]
  },
  {
   "cell_type": "markdown",
   "id": "54ed3dc8",
   "metadata": {},
   "source": [
    "#### 7-3. `곱셈` vs `행렬곱`"
   ]
  },
  {
   "cell_type": "code",
   "execution_count": 94,
   "id": "b5900e09",
   "metadata": {},
   "outputs": [],
   "source": [
    "a = np.array([[1, 2, 3], \n",
    "              [2, 3, 4]])\n",
    "\n",
    "b = np.array([[3, 4, 5], \n",
    "              [1, 2, 3]])"
   ]
  },
  {
   "cell_type": "code",
   "execution_count": 95,
   "id": "8227d31c",
   "metadata": {},
   "outputs": [
    {
     "data": {
      "text/plain": [
       "array([[ 3,  8, 15],\n",
       "       [ 2,  6, 12]])"
      ]
     },
     "execution_count": 95,
     "metadata": {},
     "output_type": "execute_result"
    }
   ],
   "source": [
    "a*b"
   ]
  },
  {
   "cell_type": "markdown",
   "id": "802441bf",
   "metadata": {},
   "source": [
    "- 단순 곱셈과 dot product 다름"
   ]
  },
  {
   "cell_type": "markdown",
   "id": "c6a9f465",
   "metadata": {},
   "source": [
    "`단순곱셈`"
   ]
  },
  {
   "cell_type": "code",
   "execution_count": 103,
   "id": "e9ffb83c",
   "metadata": {},
   "outputs": [],
   "source": [
    "a = np.array([[1, 2, 3], \n",
    "              [2, 3, 4]])\n",
    "\n",
    "b = np.array([[3, 4, 5], \n",
    "              [1, 2, 3]])"
   ]
  },
  {
   "cell_type": "code",
   "execution_count": 104,
   "id": "da21dbbf",
   "metadata": {},
   "outputs": [
    {
     "data": {
      "text/plain": [
       "((2, 3), (2, 3))"
      ]
     },
     "execution_count": 104,
     "metadata": {},
     "output_type": "execute_result"
    }
   ],
   "source": [
    "a.shape, b.shape"
   ]
  },
  {
   "cell_type": "code",
   "execution_count": 105,
   "id": "c0fba4cc",
   "metadata": {},
   "outputs": [
    {
     "data": {
      "text/plain": [
       "array([[ 3,  8, 15],\n",
       "       [ 2,  6, 12]])"
      ]
     },
     "execution_count": 105,
     "metadata": {},
     "output_type": "execute_result"
    }
   ],
   "source": [
    "a*b"
   ]
  },
  {
   "cell_type": "markdown",
   "id": "c316f482",
   "metadata": {},
   "source": [
    "`행렬곱`"
   ]
  },
  {
   "cell_type": "code",
   "execution_count": 106,
   "id": "f466f1ea",
   "metadata": {},
   "outputs": [
    {
     "ename": "ValueError",
     "evalue": "shapes (2,3) and (2,3) not aligned: 3 (dim 1) != 2 (dim 0)",
     "output_type": "error",
     "traceback": [
      "\u001b[1;31m---------------------------------------------------------------------------\u001b[0m",
      "\u001b[1;31mValueError\u001b[0m                                Traceback (most recent call last)",
      "\u001b[1;32m<ipython-input-106-90307a0dc4e9>\u001b[0m in \u001b[0;36m<module>\u001b[1;34m\u001b[0m\n\u001b[0;32m      1\u001b[0m \u001b[1;31m# 행렬곱을 할때 dot메소드 사용\u001b[0m\u001b[1;33m\u001b[0m\u001b[1;33m\u001b[0m\u001b[1;33m\u001b[0m\u001b[0m\n\u001b[1;32m----> 2\u001b[1;33m \u001b[0mnp\u001b[0m\u001b[1;33m.\u001b[0m\u001b[0mdot\u001b[0m\u001b[1;33m(\u001b[0m\u001b[0ma\u001b[0m\u001b[1;33m,\u001b[0m \u001b[0mb\u001b[0m\u001b[1;33m)\u001b[0m\u001b[1;33m\u001b[0m\u001b[1;33m\u001b[0m\u001b[0m\n\u001b[0m",
      "\u001b[1;32m<__array_function__ internals>\u001b[0m in \u001b[0;36mdot\u001b[1;34m(*args, **kwargs)\u001b[0m\n",
      "\u001b[1;31mValueError\u001b[0m: shapes (2,3) and (2,3) not aligned: 3 (dim 1) != 2 (dim 0)"
     ]
    }
   ],
   "source": [
    "# 행렬곱을 할때 dot메소드 사용\n",
    "np.dot(a, b)"
   ]
  },
  {
   "cell_type": "code",
   "execution_count": 107,
   "id": "5a28e10f",
   "metadata": {},
   "outputs": [],
   "source": [
    "a = np.array([[1, 2, 3],\n",
    "              [1, 2, 3], \n",
    "              [2, 3, 4]])"
   ]
  },
  {
   "cell_type": "code",
   "execution_count": 108,
   "id": "1c4e0a7b",
   "metadata": {},
   "outputs": [],
   "source": [
    "b = np.array([[1, 2],\n",
    "              [3, 4],  \n",
    "              [5, 6]])"
   ]
  },
  {
   "cell_type": "code",
   "execution_count": 109,
   "id": "e3754522",
   "metadata": {},
   "outputs": [
    {
     "data": {
      "text/plain": [
       "((3, 3), (3, 2))"
      ]
     },
     "execution_count": 109,
     "metadata": {},
     "output_type": "execute_result"
    }
   ],
   "source": [
    "a.shape, b.shape"
   ]
  },
  {
   "cell_type": "code",
   "execution_count": 111,
   "id": "65a7f189",
   "metadata": {},
   "outputs": [
    {
     "data": {
      "text/plain": [
       "array([[22, 28],\n",
       "       [22, 28],\n",
       "       [31, 40]])"
      ]
     },
     "execution_count": 111,
     "metadata": {},
     "output_type": "execute_result"
    }
   ],
   "source": [
    "np.dot(a, b)"
   ]
  },
  {
   "cell_type": "code",
   "execution_count": 110,
   "id": "f46cba60",
   "metadata": {},
   "outputs": [
    {
     "data": {
      "text/plain": [
       "array([[22, 28],\n",
       "       [22, 28],\n",
       "       [31, 40]])"
      ]
     },
     "execution_count": 110,
     "metadata": {},
     "output_type": "execute_result"
    }
   ],
   "source": [
    "a.dot(b)"
   ]
  },
  {
   "attachments": {
    "image-2.png": {
     "image/png": "[encoded data removed]"
    },
    "image.png": {
     "image/png": "[encoded data removed]"
    }
   },
   "cell_type": "markdown",
   "id": "a836557b",
   "metadata": {},
   "source": [
    "### 8. `BroadCasting`\n",
    "\n",
    "![image.png](attachment:image.png)\n",
    "\n",
    "![image-2.png](attachment:image-2.png)"
   ]
  },
  {
   "cell_type": "markdown",
   "id": "a58cae97",
   "metadata": {},
   "source": [
    "#### 8-1. 숫자의 연산(단일)"
   ]
  },
  {
   "cell_type": "code",
   "execution_count": 114,
   "id": "745c17cd",
   "metadata": {},
   "outputs": [],
   "source": [
    "a = np.array([[1,2,3],\n",
    "            [4,5,6]])\n",
    "\n",
    "b = np.array([[3,3,3],\n",
    "             [3,3,3]])"
   ]
  },
  {
   "cell_type": "code",
   "execution_count": 115,
   "id": "059bfd31",
   "metadata": {},
   "outputs": [
    {
     "data": {
      "text/plain": [
       "array([[4, 5, 6],\n",
       "       [7, 8, 9]])"
      ]
     },
     "execution_count": 115,
     "metadata": {},
     "output_type": "execute_result"
    }
   ],
   "source": [
    "a+b"
   ]
  },
  {
   "cell_type": "code",
   "execution_count": 116,
   "id": "f61cdc84",
   "metadata": {},
   "outputs": [
    {
     "data": {
      "text/plain": [
       "array([[4, 5, 6],\n",
       "       [7, 8, 9]])"
      ]
     },
     "execution_count": 116,
     "metadata": {},
     "output_type": "execute_result"
    }
   ],
   "source": [
    "a+3"
   ]
  },
  {
   "cell_type": "code",
   "execution_count": 117,
   "id": "8e478ff9",
   "metadata": {},
   "outputs": [
    {
     "data": {
      "text/plain": [
       "array([[-2, -1,  0],\n",
       "       [ 1,  2,  3]])"
      ]
     },
     "execution_count": 117,
     "metadata": {},
     "output_type": "execute_result"
    }
   ],
   "source": [
    "a-3"
   ]
  },
  {
   "cell_type": "code",
   "execution_count": 118,
   "id": "efaf29b3",
   "metadata": {},
   "outputs": [
    {
     "data": {
      "text/plain": [
       "array([[ 3,  6,  9],\n",
       "       [12, 15, 18]])"
      ]
     },
     "execution_count": 118,
     "metadata": {},
     "output_type": "execute_result"
    }
   ],
   "source": [
    "a*3"
   ]
  },
  {
   "cell_type": "code",
   "execution_count": 119,
   "id": "2bd5e1e8",
   "metadata": {},
   "outputs": [
    {
     "data": {
      "text/plain": [
       "array([[0.33333333, 0.66666667, 1.        ],\n",
       "       [1.33333333, 1.66666667, 2.        ]])"
      ]
     },
     "execution_count": 119,
     "metadata": {},
     "output_type": "execute_result"
    }
   ],
   "source": [
    "a/3"
   ]
  },
  {
   "cell_type": "markdown",
   "id": "92ebf7ef",
   "metadata": {},
   "source": [
    "#### 8.2 array(배열)의 BroadCasting\n",
    "\n",
    ": 오리지널 array의 shape가 유지됨"
   ]
  },
  {
   "cell_type": "code",
   "execution_count": 120,
   "id": "169e7e7e",
   "metadata": {},
   "outputs": [],
   "source": [
    "a = np.array([[1,2,3],\n",
    "             [2,3,4]])\n",
    "\n",
    "b = np.array([[1],\n",
    "             [2]])"
   ]
  },
  {
   "cell_type": "code",
   "execution_count": 121,
   "id": "7a585153",
   "metadata": {},
   "outputs": [
    {
     "data": {
      "text/plain": [
       "((2, 3), (2, 1))"
      ]
     },
     "execution_count": 121,
     "metadata": {},
     "output_type": "execute_result"
    }
   ],
   "source": [
    "a.shape, b.shape"
   ]
  },
  {
   "cell_type": "code",
   "execution_count": 122,
   "id": "d7146db7",
   "metadata": {},
   "outputs": [
    {
     "data": {
      "text/plain": [
       "array([[1, 2, 3],\n",
       "       [4, 6, 8]])"
      ]
     },
     "execution_count": 122,
     "metadata": {},
     "output_type": "execute_result"
    }
   ],
   "source": [
    "b*a"
   ]
  },
  {
   "cell_type": "code",
   "execution_count": 126,
   "id": "402e8d4f",
   "metadata": {},
   "outputs": [
    {
     "name": "stdout",
     "output_type": "stream",
     "text": [
      "(2, 3)\n"
     ]
    }
   ],
   "source": [
    "print((b*a).shape)"
   ]
  },
  {
   "cell_type": "code",
   "execution_count": 123,
   "id": "91393dd0",
   "metadata": {},
   "outputs": [],
   "source": [
    "a = np.array([[1,2,3,],\n",
    "             [2,3,4]])\n",
    "\n",
    "b = np.array([1,2,3])"
   ]
  },
  {
   "cell_type": "code",
   "execution_count": 124,
   "id": "67ebccde",
   "metadata": {},
   "outputs": [
    {
     "data": {
      "text/plain": [
       "array([[ 1,  4,  9],\n",
       "       [ 2,  6, 12]])"
      ]
     },
     "execution_count": 124,
     "metadata": {},
     "output_type": "execute_result"
    }
   ],
   "source": [
    "a*b"
   ]
  },
  {
   "cell_type": "code",
   "execution_count": 125,
   "id": "6153a74c",
   "metadata": {},
   "outputs": [
    {
     "name": "stdout",
     "output_type": "stream",
     "text": [
      "(2, 3)\n"
     ]
    }
   ],
   "source": [
    "print((a*b).shape)"
   ]
  },
  {
   "cell_type": "code",
   "execution_count": null,
   "id": "a05a52e5",
   "metadata": {},
   "outputs": [],
   "source": []
  }
 ],
 "metadata": {
  "kernelspec": {
   "display_name": "Python 3",
   "language": "python",
   "name": "python3"
  },
  "language_info": {
   "codemirror_mode": {
    "name": "ipython",
    "version": 3
   },
   "file_extension": ".py",
   "mimetype": "text/x-python",
   "name": "python",
   "nbconvert_exporter": "python",
   "pygments_lexer": "ipython3",
   "version": "3.7.10"
  }
 },
 "nbformat": 4,
 "nbformat_minor": 5
}
